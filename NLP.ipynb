{
 "cells": [
  {
   "cell_type": "code",
   "execution_count": 13,
   "id": "c17a3ef8",
   "metadata": {},
   "outputs": [],
   "source": [
    "# !pip install word2number"
   ]
  },
  {
   "cell_type": "code",
   "execution_count": 28,
   "id": "d5c4fc38",
   "metadata": {},
   "outputs": [
    {
     "name": "stderr",
     "output_type": "stream",
     "text": [
      "[nltk_data] Downloading package punkt to\n",
      "[nltk_data]     /Users/taohidshadat/nltk_data...\n",
      "[nltk_data]   Package punkt is already up-to-date!\n",
      "[nltk_data] Downloading package averaged_perceptron_tagger to\n",
      "[nltk_data]     /Users/taohidshadat/nltk_data...\n",
      "[nltk_data]   Unzipping taggers/averaged_perceptron_tagger.zip.\n"
     ]
    }
   ],
   "source": [
    "import re\n",
    "import nltk\n",
    "from nltk.tokenize import word_tokenize, sent_tokenize\n",
    "from nltk.stem import PorterStemmer\n",
    "nltk.download('punkt')\n",
    "nltk.download('averaged_perceptron_tagger')\n",
    "from word2number import w2n"
   ]
  },
  {
   "cell_type": "code",
   "execution_count": 29,
   "id": "12afb81f",
   "metadata": {},
   "outputs": [],
   "source": [
    "ps = PorterStemmer()"
   ]
  },
  {
   "cell_type": "markdown",
   "id": "bcf43191",
   "metadata": {},
   "source": [
    "The goal of this NLTK portion is to get 3 constraints out of a sentence:\n",
    "- number constraint (example 3)\n",
    "- mathematical constraint (<=)\n",
    "- categorical constraint (tech)\n",
    "\n",
    "\n",
    "Example Inputs:\n",
    "*  “I want to invest in at most 3 companies”\n",
    "*  “I want to invest in at least 3 companies”\n",
    "* “I want to invest in European companies”\n",
    "* “I want to invest in 3 tech companies”"
   ]
  },
  {
   "cell_type": "markdown",
   "id": "53feae17",
   "metadata": {
    "id": "2AiMcTlnrO17"
   },
   "source": [
    "This portion of the code extracts a number from a sentence in word format and number format. The function *extract_number* returns a list of the number/numbers extracted. \n",
    "\n",
    "* This function also handles from number ranges such as \"I want 3 to 5 stocks\"\n",
    "\n",
    "Example:\n",
    "* \"I want one hundred stocks\" ---> [100]\n",
    "* \"I want 3 to 5 stocks\" ----> [3]\n",
    "* \"I want three to five stocks\" ---> [3]\n"
   ]
  },
  {
   "cell_type": "code",
   "execution_count": 30,
   "id": "6bc27d45",
   "metadata": {},
   "outputs": [],
   "source": [
    "def extract_number(inp):\n",
    "  res = re.findall(r'\\d+', inp)\n",
    "  if len(res) > 0:\n",
    "    res = [int(res[0])]\n",
    "  #if it comes here that means the input doesn't have a numeric form and probably word format\n",
    "  if not res:\n",
    "    for w in inp.split():\n",
    "      if not res:\n",
    "        try:\n",
    "          res = [w2n.word_to_num(w)]\n",
    "        except:\n",
    "          res = []\n",
    "  return res"
   ]
  },
  {
   "cell_type": "markdown",
   "id": "3ac38e76",
   "metadata": {},
   "source": [
    "This function extracts the mathematical constrain and outputs it into a list by referring to a dictionary of inequality key words\n",
    "\n",
    "Example:\n",
    "* \"I want at least 3 stocks\" ---> ['>=']"
   ]
  },
  {
   "cell_type": "code",
   "execution_count": 31,
   "id": "4584f40d",
   "metadata": {},
   "outputs": [],
   "source": [
    "def extract_mathematical(inp):\n",
    "  #dictionary of key words for inequalities\n",
    "  d = {\n",
    "      \"=\": [\"only\", \"exactly\"],\n",
    "      \">=\": [\"at least\", \"minimum\", \"no less than\", \"no fewer than\", \"greater than or equal to\"],\n",
    "      \"<=\": [\"at most\", \"maximum\", \"no more than\", \"not above\", \"does not exceed\", \"less than or equal to\"],\n",
    "      \">\": [\"more than\", \"exceeds\", \"over\", \"above\", \"greater than\"],\n",
    "      \"<\": [\"under\", \"below\", \"fewer than\", \"beneath\", \"less than\"]\n",
    "    }\n",
    "  res = []\n",
    "  for key, value in d.items():\n",
    "    for w in value:\n",
    "      if w in inp.lower():\n",
    "        res.append(key)\n",
    "  return res"
   ]
  },
  {
   "cell_type": "code",
   "execution_count": 32,
   "id": "8902c7bc",
   "metadata": {},
   "outputs": [],
   "source": [
    "def extract_cat(inp):\n",
    "  sectors = {\n",
    "      'Industrials': [],\n",
    "      'Health Care': [],\n",
    "      'Information Technology': ['technology', 'tech', 'game'],\n",
    "      'Communication Services': [],\n",
    "      'Consumer Staples': [],\n",
    "      'Consumer Discretionary': [],\n",
    "      'Utilities': [],\n",
    "      'Financials': ['bank'],\n",
    "      'Materials': [],\n",
    "      'Real Estate': [],\n",
    "      'Energy': ['green', 'green-energy', 'energy']}\n",
    "  res = []\n",
    "  #the parts of speech we want to extract\n",
    "  pos_wanted = [\"NN\", \"JJ\", \"JJS\", \"JJR\", \"NNS\"]\n",
    "  words = nltk.word_tokenize(inp)\n",
    "  #tag words with their part of speech\n",
    "  tagged = nltk.pos_tag(words)\n",
    "  for word,pos in tagged:\n",
    "    if pos in pos_wanted and ps.stem(word) != \"stock\" and ps.stem(word) != \"compani\":   \n",
    "      for key, val in sectors.items():\n",
    "        if word.lower() in val:\n",
    "          res.append(key)\n",
    "  return res"
   ]
  },
  {
   "cell_type": "code",
   "execution_count": 33,
   "id": "d534c24e",
   "metadata": {},
   "outputs": [],
   "source": [
    "def extraction(inp):\n",
    "  res = []\n",
    "  mth = extract_mathematical(inp)\n",
    "  num = extract_number(inp)\n",
    "  cat = extract_cat(inp)\n",
    "  if len(mth) > 0:\n",
    "    res.append((mth[0], 'mth'))\n",
    "  else:\n",
    "    res.append((\"None\", \"mth\"))\n",
    "  if len(num) > 0:\n",
    "    res.append((num[0], 'num'))\n",
    "  else:\n",
    "    res.append((\"None\", \"num\"))\n",
    "  if cat:\n",
    "    res.append((cat, \"cat\"))\n",
    "  else:\n",
    "    res.append((\"None\", \"cat\"))\n",
    "  return res"
   ]
  },
  {
   "cell_type": "code",
   "execution_count": 34,
   "id": "48776ea7",
   "metadata": {},
   "outputs": [
    {
     "name": "stdout",
     "output_type": "stream",
     "text": [
      "[('>=', 'mth'), (3, 'num'), (['Information Technology'], 'cat')]\n",
      "[('None', 'mth'), ('None', 'num'), (['Information Technology'], 'cat')]\n",
      "[('=', 'mth'), (4, 'num'), ('None', 'cat')]\n",
      "[('None', 'mth'), (4, 'num'), ('None', 'cat')]\n"
     ]
    }
   ],
   "source": [
    "print(extraction(\"I want at least 3 - 5 tech stocks\"))\n",
    "print(extraction(\"I want tech stocks\")) \n",
    "print(extraction(\"I want only 4 stocks\"))\n",
    "print(extraction(\"I want 4 - 6 european stocks\"))"
   ]
  },
  {
   "cell_type": "code",
   "execution_count": null,
   "id": "7925a97e",
   "metadata": {},
   "outputs": [],
   "source": []
  }
 ],
 "metadata": {
  "kernelspec": {
   "display_name": "Python 3 (ipykernel)",
   "language": "python",
   "name": "python3"
  },
  "language_info": {
   "codemirror_mode": {
    "name": "ipython",
    "version": 3
   },
   "file_extension": ".py",
   "mimetype": "text/x-python",
   "name": "python",
   "nbconvert_exporter": "python",
   "pygments_lexer": "ipython3",
   "version": "3.8.2"
  }
 },
 "nbformat": 4,
 "nbformat_minor": 5
}
