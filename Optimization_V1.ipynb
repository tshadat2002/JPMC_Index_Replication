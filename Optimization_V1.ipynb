{
 "cells": [
  {
   "cell_type": "code",
   "execution_count": 7,
   "id": "546b779e",
   "metadata": {},
   "outputs": [],
   "source": [
    "#!pip install import-ipynb"
   ]
  },
  {
   "cell_type": "code",
   "execution_count": 1,
   "id": "50076049",
   "metadata": {},
   "outputs": [
    {
     "name": "stdout",
     "output_type": "stream",
     "text": [
      "importing Jupyter notebook from NLP.ipynb\n",
      "[('>=', 'mth'), (3, 'num'), (['Information Technology'], 'cat')]\n",
      "[('None', 'mth'), ('None', 'num'), (['Information Technology'], 'cat')]\n",
      "[('=', 'mth'), (4, 'num'), ('None', 'cat')]\n",
      "[('None', 'mth'), (4, 'num'), ('None', 'cat')]\n"
     ]
    },
    {
     "name": "stderr",
     "output_type": "stream",
     "text": [
      "[nltk_data] Downloading package punkt to\n",
      "[nltk_data]     /Users/taohidshadat/nltk_data...\n",
      "[nltk_data]   Package punkt is already up-to-date!\n",
      "[nltk_data] Downloading package averaged_perceptron_tagger to\n",
      "[nltk_data]     /Users/taohidshadat/nltk_data...\n",
      "[nltk_data]   Package averaged_perceptron_tagger is already up-to-\n",
      "[nltk_data]       date!\n"
     ]
    }
   ],
   "source": [
    "import import_ipynb\n",
    "import pandas as pd\n",
    "import numpy as np\n",
    "from NLP import extraction"
   ]
  },
  {
   "cell_type": "code",
   "execution_count": 7,
   "id": "0574ae2e",
   "metadata": {},
   "outputs": [],
   "source": [
    "corr_df = pd.read_pickle('corr_df.pkl')\n",
    "spy = pd.read_pickle('spy.pkl')\n",
    "data = pd.read_pickle('data.pkl')"
   ]
  },
  {
   "cell_type": "code",
   "execution_count": 8,
   "id": "1188fb31",
   "metadata": {
    "scrolled": true
   },
   "outputs": [
    {
     "data": {
      "text/html": [
       "<div>\n",
       "<style scoped>\n",
       "    .dataframe tbody tr th:only-of-type {\n",
       "        vertical-align: middle;\n",
       "    }\n",
       "\n",
       "    .dataframe tbody tr th {\n",
       "        vertical-align: top;\n",
       "    }\n",
       "\n",
       "    .dataframe thead th {\n",
       "        text-align: right;\n",
       "    }\n",
       "</style>\n",
       "<table border=\"1\" class=\"dataframe\">\n",
       "  <thead>\n",
       "    <tr style=\"text-align: right;\">\n",
       "      <th></th>\n",
       "      <th>Symbol</th>\n",
       "      <th>Sector</th>\n",
       "      <th>Company</th>\n",
       "      <th>Correlation</th>\n",
       "    </tr>\n",
       "  </thead>\n",
       "  <tbody>\n",
       "    <tr>\n",
       "      <th>36</th>\n",
       "      <td>AMP</td>\n",
       "      <td>Financials</td>\n",
       "      <td>Ameriprise Financial</td>\n",
       "      <td>0.862691</td>\n",
       "    </tr>\n",
       "    <tr>\n",
       "      <th>38</th>\n",
       "      <td>AME</td>\n",
       "      <td>Industrials</td>\n",
       "      <td>Ametek</td>\n",
       "      <td>0.854128</td>\n",
       "    </tr>\n",
       "    <tr>\n",
       "      <th>40</th>\n",
       "      <td>APH</td>\n",
       "      <td>Information Technology</td>\n",
       "      <td>Amphenol</td>\n",
       "      <td>0.850969</td>\n",
       "    </tr>\n",
       "    <tr>\n",
       "      <th>314</th>\n",
       "      <td>MSFT</td>\n",
       "      <td>Information Technology</td>\n",
       "      <td>Microsoft</td>\n",
       "      <td>0.845984</td>\n",
       "    </tr>\n",
       "    <tr>\n",
       "      <th>475</th>\n",
       "      <td>V</td>\n",
       "      <td>Information Technology</td>\n",
       "      <td>Visa Inc.</td>\n",
       "      <td>0.839206</td>\n",
       "    </tr>\n",
       "  </tbody>\n",
       "</table>\n",
       "</div>"
      ],
      "text/plain": [
       "    Symbol                  Sector               Company  Correlation\n",
       "36     AMP              Financials  Ameriprise Financial     0.862691\n",
       "38     AME             Industrials                Ametek     0.854128\n",
       "40     APH  Information Technology              Amphenol     0.850969\n",
       "314   MSFT  Information Technology             Microsoft     0.845984\n",
       "475      V  Information Technology             Visa Inc.     0.839206"
      ]
     },
     "execution_count": 8,
     "metadata": {},
     "output_type": "execute_result"
    }
   ],
   "source": [
    "corr_df.head()"
   ]
  },
  {
   "cell_type": "code",
   "execution_count": 9,
   "id": "a0d738c0",
   "metadata": {
    "scrolled": true
   },
   "outputs": [
    {
     "data": {
      "text/html": [
       "<div>\n",
       "<style scoped>\n",
       "    .dataframe tbody tr th:only-of-type {\n",
       "        vertical-align: middle;\n",
       "    }\n",
       "\n",
       "    .dataframe tbody tr th {\n",
       "        vertical-align: top;\n",
       "    }\n",
       "\n",
       "    .dataframe thead th {\n",
       "        text-align: right;\n",
       "    }\n",
       "</style>\n",
       "<table border=\"1\" class=\"dataframe\">\n",
       "  <thead>\n",
       "    <tr style=\"text-align: right;\">\n",
       "      <th></th>\n",
       "      <th>Date</th>\n",
       "      <th>Close</th>\n",
       "      <th>Percent_Change</th>\n",
       "    </tr>\n",
       "  </thead>\n",
       "  <tbody>\n",
       "    <tr>\n",
       "      <th>0</th>\n",
       "      <td>2020-01-02</td>\n",
       "      <td>324.869995</td>\n",
       "      <td>NaN</td>\n",
       "    </tr>\n",
       "    <tr>\n",
       "      <th>1</th>\n",
       "      <td>2020-01-03</td>\n",
       "      <td>322.410004</td>\n",
       "      <td>-0.007572</td>\n",
       "    </tr>\n",
       "    <tr>\n",
       "      <th>2</th>\n",
       "      <td>2020-01-06</td>\n",
       "      <td>323.640015</td>\n",
       "      <td>0.003815</td>\n",
       "    </tr>\n",
       "    <tr>\n",
       "      <th>3</th>\n",
       "      <td>2020-01-07</td>\n",
       "      <td>322.730011</td>\n",
       "      <td>-0.002812</td>\n",
       "    </tr>\n",
       "    <tr>\n",
       "      <th>4</th>\n",
       "      <td>2020-01-08</td>\n",
       "      <td>324.450012</td>\n",
       "      <td>0.005330</td>\n",
       "    </tr>\n",
       "  </tbody>\n",
       "</table>\n",
       "</div>"
      ],
      "text/plain": [
       "        Date       Close  Percent_Change\n",
       "0 2020-01-02  324.869995             NaN\n",
       "1 2020-01-03  322.410004       -0.007572\n",
       "2 2020-01-06  323.640015        0.003815\n",
       "3 2020-01-07  322.730011       -0.002812\n",
       "4 2020-01-08  324.450012        0.005330"
      ]
     },
     "execution_count": 9,
     "metadata": {},
     "output_type": "execute_result"
    }
   ],
   "source": [
    "spy.head()"
   ]
  },
  {
   "cell_type": "code",
   "execution_count": 10,
   "id": "7b8c7a63",
   "metadata": {},
   "outputs": [
    {
     "data": {
      "text/html": [
       "<div>\n",
       "<style scoped>\n",
       "    .dataframe tbody tr th:only-of-type {\n",
       "        vertical-align: middle;\n",
       "    }\n",
       "\n",
       "    .dataframe tbody tr th {\n",
       "        vertical-align: top;\n",
       "    }\n",
       "\n",
       "    .dataframe thead th {\n",
       "        text-align: right;\n",
       "    }\n",
       "</style>\n",
       "<table border=\"1\" class=\"dataframe\">\n",
       "  <thead>\n",
       "    <tr style=\"text-align: right;\">\n",
       "      <th></th>\n",
       "      <th>Date</th>\n",
       "      <th>Symbol</th>\n",
       "      <th>Close</th>\n",
       "      <th>Sector</th>\n",
       "      <th>Company</th>\n",
       "      <th>Percent_Change</th>\n",
       "    </tr>\n",
       "  </thead>\n",
       "  <tbody>\n",
       "    <tr>\n",
       "      <th>0</th>\n",
       "      <td>2020-01-02</td>\n",
       "      <td>A</td>\n",
       "      <td>85.949997</td>\n",
       "      <td>Health Care</td>\n",
       "      <td>Agilent Technologies</td>\n",
       "      <td>NaN</td>\n",
       "    </tr>\n",
       "    <tr>\n",
       "      <th>497</th>\n",
       "      <td>2020-01-03</td>\n",
       "      <td>A</td>\n",
       "      <td>84.570000</td>\n",
       "      <td>Health Care</td>\n",
       "      <td>Agilent Technologies</td>\n",
       "      <td>-0.016056</td>\n",
       "    </tr>\n",
       "    <tr>\n",
       "      <th>994</th>\n",
       "      <td>2020-01-06</td>\n",
       "      <td>A</td>\n",
       "      <td>84.820000</td>\n",
       "      <td>Health Care</td>\n",
       "      <td>Agilent Technologies</td>\n",
       "      <td>0.002956</td>\n",
       "    </tr>\n",
       "    <tr>\n",
       "      <th>1491</th>\n",
       "      <td>2020-01-07</td>\n",
       "      <td>A</td>\n",
       "      <td>85.080002</td>\n",
       "      <td>Health Care</td>\n",
       "      <td>Agilent Technologies</td>\n",
       "      <td>0.003065</td>\n",
       "    </tr>\n",
       "    <tr>\n",
       "      <th>1988</th>\n",
       "      <td>2020-01-08</td>\n",
       "      <td>A</td>\n",
       "      <td>85.919998</td>\n",
       "      <td>Health Care</td>\n",
       "      <td>Agilent Technologies</td>\n",
       "      <td>0.009873</td>\n",
       "    </tr>\n",
       "  </tbody>\n",
       "</table>\n",
       "</div>"
      ],
      "text/plain": [
       "           Date Symbol      Close       Sector               Company  \\\n",
       "0    2020-01-02      A  85.949997  Health Care  Agilent Technologies   \n",
       "497  2020-01-03      A  84.570000  Health Care  Agilent Technologies   \n",
       "994  2020-01-06      A  84.820000  Health Care  Agilent Technologies   \n",
       "1491 2020-01-07      A  85.080002  Health Care  Agilent Technologies   \n",
       "1988 2020-01-08      A  85.919998  Health Care  Agilent Technologies   \n",
       "\n",
       "      Percent_Change  \n",
       "0                NaN  \n",
       "497        -0.016056  \n",
       "994         0.002956  \n",
       "1491        0.003065  \n",
       "1988        0.009873  "
      ]
     },
     "execution_count": 10,
     "metadata": {},
     "output_type": "execute_result"
    }
   ],
   "source": [
    "data.head()"
   ]
  },
  {
   "cell_type": "code",
   "execution_count": 11,
   "id": "85506ff4",
   "metadata": {
    "id": "WiN11VpyIeI-"
   },
   "outputs": [],
   "source": [
    "def index_replication(inp):\n",
    "  nlp = extraction(inp)\n",
    "  filtered_df = corr_df.copy() #dataframe of all stocks with its time series correlation to the sp500\n",
    "  num_stocks = None\n",
    "  mth = None\n",
    "  filt = None\n",
    "  res = []\n",
    "  default_stocks = 5\n",
    "  add = 0\n",
    "\n",
    "  #adding all NLP extraction into variable\n",
    "  for x, y in nlp:\n",
    "    #assigning math constraint into mth as long as user has given one\n",
    "    if y == 'mth' and x != \"None\":\n",
    "      mth = x\n",
    "    #assigning num constraint into num_stocks as long as user has given one\n",
    "    elif y == 'num' and x != \"None\":\n",
    "      num_stocks = x\n",
    "    #assigning cat constraint into filt as long as user have given certain sectors to invest into\n",
    "    elif y == \"cat\" and x != \"None\":\n",
    "      if x != \"None\":\n",
    "        filt = x\n",
    "\n",
    "  #filter dataframe by the sector of stocks the user wants\n",
    "  if filt:\n",
    "    filtered_df = corr_df.loc[corr_df['Sector'].isin(filt)].copy()\n",
    "  \n",
    "  # #if user gave a mathematical constraint\n",
    "  if mth:\n",
    "    if mth == \">=\" or mth == \">\":\n",
    "      #if the user wants more than the certain number, we give them two extra stocks\n",
    "      add = 2\n",
    "    else:\n",
    "      #if the user wants less than the certain number, we give them one less stock\n",
    "      add = -1\n",
    "\n",
    "  # #if the user gave a number of stocks\n",
    "  if num_stocks:\n",
    "    #we want to include in the mathematical constraint\n",
    "    num_stocks += add\n",
    "    i = 0\n",
    "    while i < num_stocks:\n",
    "      res.append(filtered_df['Symbol'].iloc[i])\n",
    "      i += 1\n",
    "  # #if the user gave no specified number of stocks we give them a default number of stocks\n",
    "  else:\n",
    "    default_stocks += add\n",
    "    res = list(filtered_df['Symbol'].iloc[:default_stocks])\n",
    "  \n",
    "  return res"
   ]
  },
  {
   "cell_type": "code",
   "execution_count": 12,
   "id": "6165507c",
   "metadata": {},
   "outputs": [
    {
     "data": {
      "text/plain": [
       "['APH', 'MSFT', 'V', 'ACN', 'PAYX']"
      ]
     },
     "execution_count": 12,
     "metadata": {},
     "output_type": "execute_result"
    }
   ],
   "source": [
    "index_replication(\"I want to invest in at least 3 tech companies\")"
   ]
  },
  {
   "cell_type": "code",
   "execution_count": null,
   "id": "189fa9da",
   "metadata": {},
   "outputs": [],
   "source": []
  }
 ],
 "metadata": {
  "kernelspec": {
   "display_name": "Python 3 (ipykernel)",
   "language": "python",
   "name": "python3"
  },
  "language_info": {
   "codemirror_mode": {
    "name": "ipython",
    "version": 3
   },
   "file_extension": ".py",
   "mimetype": "text/x-python",
   "name": "python",
   "nbconvert_exporter": "python",
   "pygments_lexer": "ipython3",
   "version": "3.8.2"
  }
 },
 "nbformat": 4,
 "nbformat_minor": 5
}
